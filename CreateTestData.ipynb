{
 "cells": [
  {
   "cell_type": "code",
   "execution_count": 5,
   "id": "3f0e6bab-b045-4fca-bb5b-bd25337b3484",
   "metadata": {},
   "outputs": [],
   "source": [
    "import os\n",
    "import django\n",
    "os.environ.setdefault('DJANGO_SETTINGS_MODULE', 'rest.settings')\n",
    "os.environ[\"DJANGO_ALLOW_ASYNC_UNSAFE\"] = \"true\"\n",
    "django.setup()\n",
    "\n",
    "from django.utils import timezone\n",
    "from main.models import Article, Comment\n",
    "\n",
    "for i in range(320):\n",
    "    article = Article(subject=f'test_subject_{i}', content=f'test_content_{i}', board_type='FR', create_date=timezone.now())\n",
    "    article.save()\n",
    "    \n",
    "for i in range(320):\n",
    "    article = Article(subject=f'test_subject_{i}', content=f'test_content_{i}', board_type='RV', create_date=timezone.now())\n",
    "    article.save()"
   ]
  }
 ],
 "metadata": {
  "kernelspec": {
   "display_name": "Django Shell-Plus",
   "language": "python",
   "name": "django_extensions"
  },
  "language_info": {
   "codemirror_mode": {
    "name": "ipython",
    "version": 3
   },
   "file_extension": ".py",
   "mimetype": "text/x-python",
   "name": "python",
   "nbconvert_exporter": "python",
   "pygments_lexer": "ipython3",
   "version": "3.8.13"
  }
 },
 "nbformat": 4,
 "nbformat_minor": 5
}
